{
  "nbformat": 4,
  "nbformat_minor": 0,
  "metadata": {
    "colab": {
      "provenance": [],
      "gpuType": "T4",
      "authorship_tag": "ABX9TyMi0QYAcSlziX7oogC4gv3M",
      "include_colab_link": true
    },
    "kernelspec": {
      "name": "python3",
      "display_name": "Python 3"
    },
    "language_info": {
      "name": "python"
    },
    "accelerator": "GPU"
  },
  "cells": [
    {
      "cell_type": "markdown",
      "metadata": {
        "id": "view-in-github",
        "colab_type": "text"
      },
      "source": [
        "<a href=\"https://colab.research.google.com/github/pratikshaa12/Image-Classification-using-CNN/blob/main/Image_Classification3.ipynb\" target=\"_parent\"><img src=\"https://colab.research.google.com/assets/colab-badge.svg\" alt=\"Open In Colab\"/></a>"
      ]
    },
    {
      "cell_type": "markdown",
      "source": [
        "## Implementation of CNN for Image Classification with Advance Hyperparameter Tunning"
      ],
      "metadata": {
        "id": "SVNzAsasyMBa"
      }
    },
    {
      "cell_type": "code",
      "execution_count": 2,
      "metadata": {
        "id": "BEPrzw7ex3dT",
        "colab": {
          "base_uri": "https://localhost:8080/"
        },
        "outputId": "3c9ebad4-2823-4ece-be2a-72bc799eebc4"
      },
      "outputs": [
        {
          "output_type": "stream",
          "name": "stdout",
          "text": [
            "Collecting keras_tuner\n",
            "  Downloading keras_tuner-1.4.7-py3-none-any.whl.metadata (5.4 kB)\n",
            "Requirement already satisfied: keras in /usr/local/lib/python3.11/dist-packages (from keras_tuner) (3.8.0)\n",
            "Requirement already satisfied: packaging in /usr/local/lib/python3.11/dist-packages (from keras_tuner) (24.2)\n",
            "Requirement already satisfied: requests in /usr/local/lib/python3.11/dist-packages (from keras_tuner) (2.32.3)\n",
            "Collecting kt-legacy (from keras_tuner)\n",
            "  Downloading kt_legacy-1.0.5-py3-none-any.whl.metadata (221 bytes)\n",
            "Requirement already satisfied: absl-py in /usr/local/lib/python3.11/dist-packages (from keras->keras_tuner) (1.4.0)\n",
            "Requirement already satisfied: numpy in /usr/local/lib/python3.11/dist-packages (from keras->keras_tuner) (2.0.2)\n",
            "Requirement already satisfied: rich in /usr/local/lib/python3.11/dist-packages (from keras->keras_tuner) (13.9.4)\n",
            "Requirement already satisfied: namex in /usr/local/lib/python3.11/dist-packages (from keras->keras_tuner) (0.0.8)\n",
            "Requirement already satisfied: h5py in /usr/local/lib/python3.11/dist-packages (from keras->keras_tuner) (3.13.0)\n",
            "Requirement already satisfied: optree in /usr/local/lib/python3.11/dist-packages (from keras->keras_tuner) (0.14.1)\n",
            "Requirement already satisfied: ml-dtypes in /usr/local/lib/python3.11/dist-packages (from keras->keras_tuner) (0.4.1)\n",
            "Requirement already satisfied: charset-normalizer<4,>=2 in /usr/local/lib/python3.11/dist-packages (from requests->keras_tuner) (3.4.1)\n",
            "Requirement already satisfied: idna<4,>=2.5 in /usr/local/lib/python3.11/dist-packages (from requests->keras_tuner) (3.10)\n",
            "Requirement already satisfied: urllib3<3,>=1.21.1 in /usr/local/lib/python3.11/dist-packages (from requests->keras_tuner) (2.3.0)\n",
            "Requirement already satisfied: certifi>=2017.4.17 in /usr/local/lib/python3.11/dist-packages (from requests->keras_tuner) (2025.1.31)\n",
            "Requirement already satisfied: typing-extensions>=4.5.0 in /usr/local/lib/python3.11/dist-packages (from optree->keras->keras_tuner) (4.13.0)\n",
            "Requirement already satisfied: markdown-it-py>=2.2.0 in /usr/local/lib/python3.11/dist-packages (from rich->keras->keras_tuner) (3.0.0)\n",
            "Requirement already satisfied: pygments<3.0.0,>=2.13.0 in /usr/local/lib/python3.11/dist-packages (from rich->keras->keras_tuner) (2.18.0)\n",
            "Requirement already satisfied: mdurl~=0.1 in /usr/local/lib/python3.11/dist-packages (from markdown-it-py>=2.2.0->rich->keras->keras_tuner) (0.1.2)\n",
            "Downloading keras_tuner-1.4.7-py3-none-any.whl (129 kB)\n",
            "\u001b[2K   \u001b[90m━━━━━━━━━━━━━━━━━━━━━━━━━━━━━━━━━━━━━━━━\u001b[0m \u001b[32m129.1/129.1 kB\u001b[0m \u001b[31m2.9 MB/s\u001b[0m eta \u001b[36m0:00:00\u001b[0m\n",
            "\u001b[?25hDownloading kt_legacy-1.0.5-py3-none-any.whl (9.6 kB)\n",
            "Installing collected packages: kt-legacy, keras_tuner\n",
            "Successfully installed keras_tuner-1.4.7 kt-legacy-1.0.5\n"
          ]
        }
      ],
      "source": [
        "pip install keras_tuner"
      ]
    },
    {
      "cell_type": "markdown",
      "source": [
        "### Step 1 - Importing necessary libraries"
      ],
      "metadata": {
        "id": "T977pgfGyhNd"
      }
    },
    {
      "cell_type": "code",
      "source": [
        "import tensorflow as tf\n",
        "from tensorflow.keras import datasets, layers, models\n",
        "from keras_tuner.tuners import RandomSearch\n",
        "import matplotlib.pyplot as plt"
      ],
      "metadata": {
        "id": "QoTwbd0mymbm"
      },
      "execution_count": 3,
      "outputs": []
    },
    {
      "cell_type": "markdown",
      "source": [
        "### Step 2 - Loading and preprocessing the CIFAR-10 dataset"
      ],
      "metadata": {
        "id": "NWpdFDwpynpC"
      }
    },
    {
      "cell_type": "code",
      "source": [
        "(train_images, train_labels), (test_images, test_labels)= datasets.cifar10.load_data()\n",
        "train_images= train_images/255.0\n",
        "test_images = test_images/255.0"
      ],
      "metadata": {
        "id": "y57B8m3Byumv",
        "colab": {
          "base_uri": "https://localhost:8080/"
        },
        "outputId": "c298a406-87e5-4459-a381-e495dff2dc07"
      },
      "execution_count": 4,
      "outputs": [
        {
          "output_type": "stream",
          "name": "stdout",
          "text": [
            "Downloading data from https://www.cs.toronto.edu/~kriz/cifar-10-python.tar.gz\n",
            "\u001b[1m170498071/170498071\u001b[0m \u001b[32m━━━━━━━━━━━━━━━━━━━━\u001b[0m\u001b[37m\u001b[0m \u001b[1m3s\u001b[0m 0us/step\n"
          ]
        }
      ]
    },
    {
      "cell_type": "markdown",
      "source": [
        "### Step 3 - Defining the class names for CIFAR-10"
      ],
      "metadata": {
        "id": "-wo3ymf2yvSM"
      }
    },
    {
      "cell_type": "code",
      "source": [
        "class_name= ['airplane', 'automobile', 'bird', 'cat', 'deer', 'dog', 'frog', 'horse', 'ship', 'truck']"
      ],
      "metadata": {
        "id": "hvDWQ-X7y3JI"
      },
      "execution_count": 5,
      "outputs": []
    },
    {
      "cell_type": "markdown",
      "source": [
        "### Step 4 - Define a function to build the model"
      ],
      "metadata": {
        "id": "GwyLrOEXy4_W"
      }
    },
    {
      "cell_type": "code",
      "source": [
        "def build_model(hp):\n",
        "  model=models.Sequential()\n",
        "\n",
        "  # tune the number of Convolutional Layers (1,2 or 3)\n",
        "  for i in range(hp.Int('conv_layers', 1, 3)):\n",
        "    if i == 0:\n",
        "      model.add(layers.Conv2D(\n",
        "          filters=hp.Int('filters_' + str(i), min_value=32, max_value=128, step=16),\n",
        "          kernel_size=(3,3),\n",
        "          activation='relu',\n",
        "          input_shape=(32,32,3)\n",
        "      ))\n",
        "    else:\n",
        "      model.add(layers.Conv2D(\n",
        "        filters= hp.Int('filters_' + str(i), min_value=32, max_value=128, step=16),\n",
        "        kernel_size=(3,3),\n",
        "        activation='relu',\n",
        "        padding='same'))\n",
        "      model.add(layers.MaxPooling2D(pool_size=(2,2)))\n",
        "    model.add(layers.Flatten())\n",
        "\n",
        "  # tune the numver of Dense layers(1,2 or 3)\n",
        "  for i in range(hp.Int('dense_layers', 1, 3)):\n",
        "     model.add(layers.Dense(\n",
        "          units=hp.Int('units_' + str(i), min_value=32, max_value=128, step=16),\n",
        "          activation='relu'))\n",
        "\n",
        "     # tune the droupout rate\n",
        "     model.add(layers.Dropout(rate=hp.Float('dropout_' + str(i), min_value=0.0, max_value=0.5,step=0.1)))\n",
        "\n",
        "\n",
        "     # the last Dense layer with 10 output units (for 10 classes of CIFAR-10 dataset)\n",
        "     model.add(layers.Dense(10, activation='softmax'))\n",
        "\n",
        "     # Choose an optimizer and learning rate\n",
        "     optimizer=tf.keras.optimizers.Adam(learning_rate=hp.Choice('learning_rate', values=[1e-2, 1e-3, 1e-4]))\n",
        "     model.compile(optimizer=optimizer, loss=tf.keras.losses.SparseCategoricalCrossentropy(from_logits=True), metrics=['accuracy'])\n",
        "     return model\n"
      ],
      "metadata": {
        "id": "6_HuqxoVy-h0"
      },
      "execution_count": 8,
      "outputs": []
    },
    {
      "cell_type": "markdown",
      "source": [
        "### Step 5 - Define the tuner"
      ],
      "metadata": {
        "id": "HH4Sk_Je4Xcd"
      }
    },
    {
      "cell_type": "code",
      "source": [
        "tuner = RandomSearch(\n",
        "    build_model,\n",
        "    objective='val_accuracy',\n",
        "    max_trials=10,\n",
        "    executions_per_trial=1,\n",
        "    directory ='my_dir',\n",
        "    project_name='cifar10_tunning'\n",
        ")"
      ],
      "metadata": {
        "id": "Xecq8Gw-4bIP",
        "colab": {
          "base_uri": "https://localhost:8080/"
        },
        "outputId": "7fbbcb43-431a-4074-e5b9-86228a27cf46"
      },
      "execution_count": 9,
      "outputs": [
        {
          "output_type": "stream",
          "name": "stderr",
          "text": [
            "/usr/local/lib/python3.11/dist-packages/keras/src/layers/convolutional/base_conv.py:107: UserWarning: Do not pass an `input_shape`/`input_dim` argument to a layer. When using Sequential models, prefer using an `Input(shape)` object as the first layer in the model instead.\n",
            "  super().__init__(activity_regularizer=activity_regularizer, **kwargs)\n"
          ]
        }
      ]
    },
    {
      "cell_type": "markdown",
      "source": [
        "### Step 6 - Perform the Hyperparameter search"
      ],
      "metadata": {
        "id": "-yjdSua34lL3"
      }
    },
    {
      "cell_type": "code",
      "source": [
        "tuner.search(train_images, train_labels, epochs=5, validation_data=(test_images, test_labels))"
      ],
      "metadata": {
        "id": "T7HVVcYn4pxd",
        "colab": {
          "base_uri": "https://localhost:8080/"
        },
        "outputId": "adcc1470-08c5-444a-917a-e02ed577fc4f"
      },
      "execution_count": 10,
      "outputs": [
        {
          "output_type": "stream",
          "name": "stdout",
          "text": [
            "Trial 10 Complete [00h 00m 40s]\n",
            "val_accuracy: 0.10320000350475311\n",
            "\n",
            "Best val_accuracy So Far: 0.6092000007629395\n",
            "Total elapsed time: 00h 06m 08s\n"
          ]
        }
      ]
    },
    {
      "cell_type": "markdown",
      "source": [
        "### Step 7- Get the best Hyperparameters"
      ],
      "metadata": {
        "id": "lgim-w5v4q9h"
      }
    },
    {
      "cell_type": "code",
      "source": [
        "best_hps=tuner.get_best_hyperparameters(num_trials=1)[0]"
      ],
      "metadata": {
        "id": "ayDsmfDl4v3R"
      },
      "execution_count": 11,
      "outputs": []
    },
    {
      "cell_type": "markdown",
      "source": [
        "### Step 8 - Build the model with the best Hyperparameters and train it"
      ],
      "metadata": {
        "id": "zurrhs894xot"
      }
    },
    {
      "cell_type": "code",
      "source": [
        "model= tuner.hypermodel.build(best_hps)\n",
        "history= model.fit(train_images, train_labels, epochs=5, validation_data=(test_images, test_labels))\n"
      ],
      "metadata": {
        "id": "1ACAoZCa4-Q4",
        "colab": {
          "base_uri": "https://localhost:8080/"
        },
        "outputId": "e8628cea-6cf8-492d-d300-4fa8b12598de"
      },
      "execution_count": 12,
      "outputs": [
        {
          "output_type": "stream",
          "name": "stdout",
          "text": [
            "Epoch 1/5\n",
            "\u001b[1m1563/1563\u001b[0m \u001b[32m━━━━━━━━━━━━━━━━━━━━\u001b[0m\u001b[37m\u001b[0m \u001b[1m11s\u001b[0m 6ms/step - accuracy: 0.3848 - loss: 1.7218 - val_accuracy: 0.5516 - val_loss: 1.2643\n",
            "Epoch 2/5\n",
            "\u001b[1m1563/1563\u001b[0m \u001b[32m━━━━━━━━━━━━━━━━━━━━\u001b[0m\u001b[37m\u001b[0m \u001b[1m8s\u001b[0m 5ms/step - accuracy: 0.5657 - loss: 1.2102 - val_accuracy: 0.5827 - val_loss: 1.1835\n",
            "Epoch 3/5\n",
            "\u001b[1m1563/1563\u001b[0m \u001b[32m━━━━━━━━━━━━━━━━━━━━\u001b[0m\u001b[37m\u001b[0m \u001b[1m10s\u001b[0m 5ms/step - accuracy: 0.6375 - loss: 1.0210 - val_accuracy: 0.5756 - val_loss: 1.1763\n",
            "Epoch 4/5\n",
            "\u001b[1m1563/1563\u001b[0m \u001b[32m━━━━━━━━━━━━━━━━━━━━\u001b[0m\u001b[37m\u001b[0m \u001b[1m7s\u001b[0m 4ms/step - accuracy: 0.6917 - loss: 0.8649 - val_accuracy: 0.6049 - val_loss: 1.1347\n",
            "Epoch 5/5\n",
            "\u001b[1m1563/1563\u001b[0m \u001b[32m━━━━━━━━━━━━━━━━━━━━\u001b[0m\u001b[37m\u001b[0m \u001b[1m7s\u001b[0m 4ms/step - accuracy: 0.7375 - loss: 0.7355 - val_accuracy: 0.6028 - val_loss: 1.1902\n"
          ]
        }
      ]
    },
    {
      "cell_type": "markdown",
      "source": [
        "### Step 9- Plotting training and validation accuracy and loss values"
      ],
      "metadata": {
        "id": "gSgkYc-h4-sH"
      }
    },
    {
      "cell_type": "code",
      "source": [
        "plt.figure(figsize=(12,4))\n",
        "\n",
        "plt.subplot(1,2,1)\n",
        "plt.plot(history.history['accuracy'], label='accuracy')\n",
        "plt.plot(history.history['val_accuracy'], label='val_accuracy')\n",
        "plt.xlabel('Epochs')\n",
        "plt.ylabel('Accuracy')\n",
        "plt.ylim([0,1])\n",
        "plt.legend(loc='lower right')\n",
        "plt.title('Training and Validation Accuracy')\n",
        "plt.grid()\n",
        "\n",
        "plt.subplot(1,2,2)\n",
        "plt.plot(history.history['loss'], label='loss')\n",
        "plt.plot(history.history['val_loss'], label='val_loss')\n",
        "plt.xlabel('Epochs')\n",
        "plt.ylabel('Loss')\n",
        "plt.ylim([0,1])\n",
        "plt.legend(loc='upper right')\n",
        "plt.title('Training and Validation Loss')\n",
        "plt.grid()\n",
        "\n",
        "plt.show()"
      ],
      "metadata": {
        "id": "1Z_mrYj15U5W",
        "colab": {
          "base_uri": "https://localhost:8080/",
          "height": 410
        },
        "outputId": "7a4ebfe6-df96-4f36-8d9e-fe217d4261d8"
      },
      "execution_count": 13,
      "outputs": [
        {
          "output_type": "display_data",
          "data": {
            "text/plain": [
              "<Figure size 1200x400 with 2 Axes>"
            ],
            "image/png": "[encoded data removed]"
          },
          "metadata": {}
        }
      ]
    },
    {
      "cell_type": "code",
      "source": [],
      "metadata": {
        "id": "Mf3ESbtk5sUW"
      },
      "execution_count": null,
      "outputs": []
    }
  ]
}